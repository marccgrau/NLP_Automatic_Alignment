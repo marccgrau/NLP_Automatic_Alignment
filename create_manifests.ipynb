{
 "cells": [
  {
   "cell_type": "code",
   "execution_count": 1,
   "id": "44def708-91b7-4ae9-b8d1-7254c31a1646",
   "metadata": {},
   "outputs": [],
   "source": [
    "import glob \n",
    "import json\n",
    "import pandas as pd\n",
    "import os\n",
    "import numpy as np\n",
    "import random\n",
    "import librosa\n",
    "import string"
   ]
  },
  {
   "cell_type": "code",
   "execution_count": 2,
   "id": "492c7db1-b3ad-4da0-8d77-988d1197adbd",
   "metadata": {},
   "outputs": [],
   "source": [
    "files = glob.glob(os.path.join(\"data/voice/SZ_parliament/audio\", \"*.wav\"))"
   ]
  },
  {
   "cell_type": "code",
   "execution_count": 3,
   "id": "4c0c0793-c14b-44ed-af95-4a89605377d3",
   "metadata": {},
   "outputs": [
    {
     "name": "stdout",
     "output_type": "stream",
     "text": [
      "data/voice/SZ_parliament/audio/sentence_0428_Part1_246.wav\n"
     ]
    }
   ],
   "source": [
    "print(files[2400])"
   ]
  },
  {
   "cell_type": "code",
   "execution_count": 4,
   "id": "94c828fe-dbc1-4cd6-9e5f-2ef769ac77c0",
   "metadata": {},
   "outputs": [],
   "source": [
    "transcript_0224 = pd.read_csv(\"output/audio_output_0224/sentence_info_0224.csv\", index_col=0)\n",
    "transcript_0324 = pd.read_csv(\"output/audio_output_0324/sentence_info_0324.csv\", index_col=0)\n",
    "transcript_0428_1 = pd.read_csv(\"output/audio_output_0428_Part1/sentence_info_0428_Part1.csv\", index_col=0)\n",
    "transcript_0428_2 = pd.read_csv(\"output/audio_output_0428_Part2/sentence_info_0428_Part2.csv\", index_col=0)"
   ]
  },
  {
   "cell_type": "code",
   "execution_count": 5,
   "id": "7d1435ea-91fa-41c0-b423-5a61956bb6bf",
   "metadata": {},
   "outputs": [],
   "source": [
    "transcript_0224['session_index'] = np.repeat(\"0224\", len(transcript_0224))\n",
    "transcript_0324['session_index'] = np.repeat(\"0324\", len(transcript_0324))\n",
    "transcript_0428_1['session_index'] = np.repeat(\"0428_Part1\", len(transcript_0428_1))\n",
    "transcript_0428_2['session_index'] = np.repeat(\"0428_Part2\", len(transcript_0428_2))"
   ]
  },
  {
   "cell_type": "code",
   "execution_count": 6,
   "id": "221cdc45-5c93-4bdb-91d9-c8c8a24f21c3",
   "metadata": {},
   "outputs": [],
   "source": [
    "transcripts = pd.concat([transcript_0224, transcript_0324, transcript_0428_1, transcript_0428_2], axis = 0)"
   ]
  },
  {
   "cell_type": "code",
   "execution_count": 7,
   "id": "94d9f68c-a4bf-4bbc-84af-7d1cd52a411a",
   "metadata": {},
   "outputs": [
    {
     "name": "stdout",
     "output_type": "stream",
     "text": [
      "      truth_length  stt_length      score  stt_confidence  \\\n",
      "73             209         180 -98.478667        0.858000   \n",
      "75             217         195 -99.257728        0.897702   \n",
      "76             194         152 -89.375014        0.885997   \n",
      "78              84          72 -31.559422        0.956565   \n",
      "81             153         111 -68.379946        0.864266   \n",
      "...            ...         ...        ...             ...   \n",
      "1404            79          68 -29.352541        0.898084   \n",
      "1406           204         174 -97.608686        0.855947   \n",
      "1409            66          46 -29.536461        0.861031   \n",
      "1411           193         137 -80.369447        0.887506   \n",
      "1412           169         135 -65.612923        0.923816   \n",
      "\n",
      "                                           truth_string  \\\n",
      "73    Im Namen einer Mehrheit der CVP-Fraktion und i...   \n",
      "75    Glücklicherweise hat dieser Druck bereits genü...   \n",
      "76    In dieser Stellungnahme fordert die Regierung ...   \n",
      "78    Natürlich sollen all diese Öffnungen unter Ein...   \n",
      "81    Das ist wirklich toll, hier arbeitet man nämli...   \n",
      "...                                                 ...   \n",
      "1404  Das sind Ressourcen, das sind Steuergelder, we...   \n",
      "1406  Ich bin schon sehr froh, dass wir über die Bil...   \n",
      "1409  Damit haben wir in diesem Sinne auch den heuti...   \n",
      "1411  Es bleibt mir nur noch, Ihnen für die engagier...   \n",
      "1412  Die Ratsleitung trifft sich in einer Viertelst...   \n",
      "\n",
      "                                             stt_string  audio_duration  \\\n",
      "73    genorme vunemere photecefapredroktion und im n...           12.36   \n",
      "75    druker rewis hätte druck bereits genützt und r...           17.23   \n",
      "76    contain die der stellignam ude tageligs chnerd...           12.00   \n",
      "78    natürlich audie öffnigesellit mit der ebe zum ...            6.66   \n",
      "81    da sich wiritor daschaff vennehmlich mit rytsa...            9.79   \n",
      "...                                                 ...             ...   \n",
      "1404  hennerouza sind ressource das in stürgald umer...            4.05   \n",
      "1406  ich bischon auffroh die bildigsstrategie mehrm...           11.76   \n",
      "1409     d hatte marader heute ge dolk indemseebestande            3.78   \n",
      "1411  schosbrit menonnoine sancre für ie engagierte ...           10.32   \n",
      "1412  trauzsleitig trifft sich in der vierten stunde...            9.38   \n",
      "\n",
      "     session_index  \n",
      "73            0224  \n",
      "75            0224  \n",
      "76            0224  \n",
      "78            0224  \n",
      "81            0224  \n",
      "...            ...  \n",
      "1404    0428_Part2  \n",
      "1406    0428_Part2  \n",
      "1409    0428_Part2  \n",
      "1411    0428_Part2  \n",
      "1412    0428_Part2  \n",
      "\n",
      "[2861 rows x 8 columns]\n"
     ]
    }
   ],
   "source": [
    "print(transcripts)"
   ]
  },
  {
   "cell_type": "code",
   "execution_count": 8,
   "id": "6c74a894-78a4-41dc-9013-f681efbc97b8",
   "metadata": {},
   "outputs": [
    {
     "name": "stdout",
     "output_type": "stream",
     "text": [
      "2861\n"
     ]
    }
   ],
   "source": [
    "print(len(transcripts))"
   ]
  },
  {
   "cell_type": "code",
   "execution_count": 9,
   "id": "dc17af5f-d696-44bc-80f6-46542a65bb12",
   "metadata": {},
   "outputs": [
    {
     "name": "stdout",
     "output_type": "stream",
     "text": [
      "         0\n",
      "0        0\n",
      "1        1\n",
      "2        2\n",
      "3        3\n",
      "4        4\n",
      "...    ...\n",
      "2856  2856\n",
      "2857  2857\n",
      "2858  2858\n",
      "2859  2859\n",
      "2860  2860\n",
      "\n",
      "[2861 rows x 1 columns]\n"
     ]
    }
   ],
   "source": [
    "split_indices = pd.DataFrame(range(len(transcripts)))\n",
    "print(split_indices)"
   ]
  },
  {
   "cell_type": "code",
   "execution_count": 10,
   "id": "4aff3c5a-90d2-42f8-b9bc-b5a18a05d59b",
   "metadata": {},
   "outputs": [],
   "source": [
    "np.random.seed(42)\n",
    "train, validate, test = np.split(split_indices.sample(frac=1), [int(.8*len(split_indices)), int(.9*len(split_indices))])"
   ]
  },
  {
   "cell_type": "code",
   "execution_count": 11,
   "id": "cdf561ff-a661-46b6-8bfa-ea367f849b52",
   "metadata": {},
   "outputs": [
    {
     "name": "stdout",
     "output_type": "stream",
     "text": [
      "0.7997203774903879\n",
      "0.09996504718629849\n",
      "0.10031457532331353\n"
     ]
    }
   ],
   "source": [
    "print(len(train) / len(transcripts))\n",
    "print(len(validate) / len(transcripts))\n",
    "print(len(test) / len(transcripts))"
   ]
  },
  {
   "cell_type": "code",
   "execution_count": 12,
   "id": "cd8704b4-54aa-45b4-af4f-2e9bc1299cf8",
   "metadata": {},
   "outputs": [],
   "source": [
    "train_indices = train[0].values.tolist()\n",
    "val_indices = validate[0].values.tolist()\n",
    "test_indices = test[0].values.tolist()"
   ]
  },
  {
   "cell_type": "code",
   "execution_count": 13,
   "id": "cb66cabc-2c0a-4818-ba18-ec5506bee71c",
   "metadata": {},
   "outputs": [],
   "source": [
    "# --- Building Manifest Files --- #\n",
    "# Function to build a manifest\n",
    "\n",
    "def build_manifest(transcript_file, manifest_path, split_indices):\n",
    "    split_index = 0\n",
    "    with open(manifest_path, 'w') as fout:\n",
    "        for index, row in transcript_file.iterrows():\n",
    "            if split_index in split_indices:\n",
    "                sentence = row['truth_string'].lower().translate(str.maketrans('', '', string.punctuation))\n",
    "                session = row['session_index']\n",
    "                audio_path = f'data/voice/SZ_parliament/audio/sentence_{session}_{index}.wav'\n",
    "                duration = duration = librosa.core.get_duration(filename=audio_path)\n",
    "\n",
    "                # Write the metadata to the manifest\n",
    "                metadata = {\n",
    "                    \"audio_filepath\": audio_path,\n",
    "                    \"text\": sentence,\n",
    "                    \"duration\": duration\n",
    "                }\n",
    "                json.dump(metadata, fout)\n",
    "                fout.write('\\n')\n",
    "            split_index+=1\n"
   ]
  },
  {
   "cell_type": "code",
   "execution_count": 14,
   "id": "80762c15-80d0-46f4-b09e-83bfcf7bc104",
   "metadata": {},
   "outputs": [],
   "source": [
    "# Building Manifests\n",
    "build_manifest(transcripts, \"data/voice/SZ_parliament/train_manifest.json\", train_indices)"
   ]
  },
  {
   "cell_type": "code",
   "execution_count": 15,
   "id": "7346e677-49d4-413b-a33f-fd7ec9d87c40",
   "metadata": {},
   "outputs": [],
   "source": [
    "# Building Manifests\n",
    "build_manifest(transcripts, \"data/voice/SZ_parliament/val_manifest.json\", val_indices)"
   ]
  },
  {
   "cell_type": "code",
   "execution_count": 16,
   "id": "996e8dea-04d3-4c92-8a81-efc2b983c3c7",
   "metadata": {},
   "outputs": [],
   "source": [
    "# Building Manifests\n",
    "build_manifest(transcripts, \"data/voice/SZ_parliament/test_manifest.json\", test_indices)"
   ]
  }
 ],
 "metadata": {
  "kernelspec": {
   "display_name": "Python 3 (ipykernel)",
   "language": "python",
   "name": "python3"
  },
  "language_info": {
   "codemirror_mode": {
    "name": "ipython",
    "version": 3
   },
   "file_extension": ".py",
   "mimetype": "text/x-python",
   "name": "python",
   "nbconvert_exporter": "python",
   "pygments_lexer": "ipython3",
   "version": "3.9.13"
  }
 },
 "nbformat": 4,
 "nbformat_minor": 5
}
